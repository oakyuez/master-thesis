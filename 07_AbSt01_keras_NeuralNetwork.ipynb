{
 "cells": [
  {
   "cell_type": "code",
   "execution_count": 1,
   "metadata": {},
   "outputs": [],
   "source": [
    "import keras \n",
    "import tensorflow as tf\n",
    "from tensorflow.keras.layers.experimental.preprocessing import TextVectorization\n",
    "from tensorflow.keras.layers import Dense, Dropout, Embedding, Conv1D, GlobalMaxPooling1D, SimpleRNN, GRU, LSTM, Bidirectional\n",
    "from tensorflow.keras.callbacks import EarlyStopping\n",
    "from tensorflow.keras.utils import plot_model\n",
    "import string\n",
    "import re\n",
    "import matplotlib.pyplot as plt"
   ]
  },
  {
   "cell_type": "markdown",
   "metadata": {},
   "source": [
    "## Load txt files"
   ]
  },
  {
   "cell_type": "code",
   "execution_count": 3,
   "metadata": {},
   "outputs": [
    {
     "name": "stdout",
     "output_type": "stream",
     "text": [
      "Found 60000 files belonging to 3 classes.\n",
      "Using 48000 files for training.\n"
     ]
    }
   ],
   "source": [
    "raw_train_ds = tf.keras.preprocessing.text_dataset_from_directory(directory=\"/home/jupyter-ozkan_ma/data/TXT/Ablation_Study_01/train/\",\n",
    "                                                          labels=\"inferred\",\n",
    "                                                          label_mode=\"categorical\",\n",
    "                                                          batch_size=64,\n",
    "                                                          validation_split=0.2,\n",
    "                                                          subset=\"training\",        \n",
    "                                                          seed=1337)"
   ]
  },
  {
   "cell_type": "code",
   "execution_count": 4,
   "metadata": {},
   "outputs": [
    {
     "name": "stdout",
     "output_type": "stream",
     "text": [
      "Found 60000 files belonging to 3 classes.\n",
      "Using 12000 files for validation.\n"
     ]
    }
   ],
   "source": [
    "raw_val_ds = tf.keras.preprocessing.text_dataset_from_directory(directory=\"/home/jupyter-ozkan_ma/data/TXT/Ablation_Study_01/train/\",\n",
    "                                                          labels=\"inferred\",\n",
    "                                                          label_mode=\"categorical\",\n",
    "                                                          batch_size=64,\n",
    "                                                          validation_split=0.2,\n",
    "                                                          subset=\"validation\",\n",
    "                                                          seed=1337)"
   ]
  },
  {
   "cell_type": "code",
   "execution_count": 6,
   "metadata": {},
   "outputs": [
    {
     "name": "stdout",
     "output_type": "stream",
     "text": [
      "Found 15000 files belonging to 3 classes.\n"
     ]
    }
   ],
   "source": [
    "raw_test_ds = tf.keras.preprocessing.text_dataset_from_directory(directory=\"/home/jupyter-ozkan_ma/data/TXT/Ablation_Study_01/test/\",\n",
    "                                                         labels=\"inferred\",\n",
    "                                                         label_mode=\"categorical\",\n",
    "                                                         batch_size=64)"
   ]
  },
  {
   "cell_type": "markdown",
   "metadata": {},
   "source": [
    "## Model Constants"
   ]
  },
  {
   "cell_type": "code",
   "execution_count": 7,
   "metadata": {},
   "outputs": [],
   "source": [
    "max_features = 30000\n",
    "embedding_dim = 128\n",
    "sequence_length = 512\n",
    "epochs=10"
   ]
  },
  {
   "cell_type": "code",
   "execution_count": 8,
   "metadata": {},
   "outputs": [],
   "source": [
    "vectorize_layer = TextVectorization(max_tokens=max_features,\n",
    "                                    standardize=\"lower_and_strip_punctuation\",\n",
    "                                    output_mode=\"int\",\n",
    "                                    output_sequence_length=sequence_length)"
   ]
  },
  {
   "cell_type": "code",
   "execution_count": 9,
   "metadata": {},
   "outputs": [],
   "source": [
    "vectorize_layer = TextVectorization(max_tokens=max_features,\n",
    "                                    standardize=\"lower_and_strip_punctuation\",\n",
    "                                    output_mode=\"int\",\n",
    "                                    output_sequence_length=sequence_length)"
   ]
  },
  {
   "cell_type": "code",
   "execution_count": 10,
   "metadata": {},
   "outputs": [],
   "source": [
    "def vectorize_text(text, label):\n",
    "    text = tf.expand_dims(text, -1)\n",
    "    return vectorize_layer(text), label\n",
    "\n",
    "\n",
    "# Vectorize the data.\n",
    "train_ds = raw_train_ds.map(vectorize_text)\n",
    "val_ds = raw_val_ds.map(vectorize_text)\n",
    "test_ds = raw_test_ds.map(vectorize_text)\n",
    "\n",
    "# Do async prefetching / buffering of the data for best performance on GPU.\n",
    "train_ds = train_ds.cache().prefetch(buffer_size=10)\n",
    "val_ds = val_ds.cache().prefetch(buffer_size=10)\n",
    "test_ds = test_ds.cache().prefetch(buffer_size=10)"
   ]
  },
  {
   "cell_type": "markdown",
   "metadata": {},
   "source": [
    "## Function to plot accuracy and loss"
   ]
  },
  {
   "cell_type": "code",
   "execution_count": 11,
   "metadata": {},
   "outputs": [],
   "source": [
    "def plot_train_val_loss(epochs, loss, val_loss):\n",
    "    \n",
    "    plt.clf()\n",
    "    \n",
    "    plt.plot(epochs, loss, 'bo', label='Training loss')\n",
    "    # b is for \"solid blue line\"\n",
    "    plt.plot(epochs, val_loss, 'b', label='Validation loss')\n",
    "    plt.title('Training and validation loss')\n",
    "    plt.xlabel('Epochs')\n",
    "    plt.ylabel('Loss')\n",
    "    plt.legend()\n",
    "\n",
    "    plt.show()"
   ]
  },
  {
   "cell_type": "code",
   "execution_count": 12,
   "metadata": {},
   "outputs": [],
   "source": [
    "def plot_train_val_acc(epochs, acc, val_acc):\n",
    "    \n",
    "    plt.clf()   # clear figure\n",
    "\n",
    "    plt.plot(epochs, acc, 'bo', label='Training acc')\n",
    "    plt.plot(epochs, val_acc, 'b', label='Validation acc')\n",
    "    plt.title('Training and validation accuracy')\n",
    "    plt.xlabel('Epochs')\n",
    "    plt.ylabel('Accuracy')\n",
    "    plt.legend()\n",
    "\n",
    "    plt.show()"
   ]
  },
  {
   "cell_type": "markdown",
   "metadata": {},
   "source": [
    "## Function to compile and train model, evaluate its performance on the test set"
   ]
  },
  {
   "cell_type": "code",
   "execution_count": 13,
   "metadata": {},
   "outputs": [],
   "source": [
    "def run_model(input_layer, output_layer, train_data, val_data, test_data):\n",
    "    \n",
    "    model = tf.keras.Model(input_layer, output_layer)\n",
    "    \n",
    "    model.compile(loss=\"categorical_crossentropy\", optimizer=\"adam\", metrics=[\"accuracy\"])\n",
    "    \n",
    "    print(\"Training of the model: \\n\")\n",
    "    model_history = model.fit(train_data, validation_data=val_data, epochs=epochs, callbacks=callback)\n",
    "    \n",
    "    print(\"Performance of the model to unseen data: \\n\")\n",
    "    model.evaluate(test_data)\n",
    "    \n",
    "    acc = model_history.history['accuracy']\n",
    "    val_acc = model_history.history['val_accuracy']\n",
    "\n",
    "    loss = model_history.history['loss']\n",
    "    val_loss = model_history.history['val_loss']\n",
    "\n",
    "    epochs_x = range(1, len(acc) + 1)\n",
    "    \n",
    "    plot_train_val_acc(epochs_x, acc, val_acc)\n",
    "    plot_train_val_loss(epochs_x, loss, val_loss)"
   ]
  },
  {
   "cell_type": "markdown",
   "metadata": {},
   "source": [
    "## Core layers and arguments for reusing"
   ]
  },
  {
   "cell_type": "code",
   "execution_count": 14,
   "metadata": {},
   "outputs": [],
   "source": [
    "# A integer input for vocab indices.\n",
    "input_layer = tf.keras.Input(shape=(None,), dtype=\"int64\")\n",
    "\n",
    "# Next, we add a layer to map those vocab indices into a space of dimensionality\n",
    "# 'embedding_dim'.\n",
    "embedding_layer = Embedding(max_features, embedding_dim)(input_layer)\n",
    "\n",
    "# We project onto five unit output layer, and squash it with a softmax:\n",
    "# output_layer = Dense(5, activation=\"softmax\", name=\"predictions\")"
   ]
  },
  {
   "cell_type": "code",
   "execution_count": 15,
   "metadata": {},
   "outputs": [],
   "source": [
    "callback = EarlyStopping(monitor=\"val_loss\", patience=2)"
   ]
  },
  {
   "cell_type": "markdown",
   "metadata": {},
   "source": [
    "## Scratch Model from the Keras documentation"
   ]
  },
  {
   "cell_type": "code",
   "execution_count": 18,
   "metadata": {},
   "outputs": [],
   "source": [
    "lay01 = Dropout(0.5)(embedding_layer)\n",
    "lay02 = Conv1D(128, 7, padding=\"valid\", activation=\"relu\", strides=3)(lay01)\n",
    "lay03 = Conv1D(128, 7, padding=\"valid\", activation=\"relu\", strides=3)(lay02)\n",
    "lay04 = GlobalMaxPooling1D()(lay03)\n",
    "lay05 = Dense(128, activation=\"relu\")(lay04)\n",
    "lay06 = Dropout(0.5)(lay05)\n",
    "\n",
    "outputLayer = Dense(3, activation=\"softmax\")(lay06)"
   ]
  },
  {
   "cell_type": "code",
   "execution_count": 19,
   "metadata": {},
   "outputs": [
    {
     "name": "stdout",
     "output_type": "stream",
     "text": [
      "Training of the model: \n",
      "\n",
      "Epoch 1/10\n",
      "750/750 [==============================] - 33s 44ms/step - loss: 1.0942 - accuracy: 0.3551 - val_loss: 1.0805 - val_accuracy: 0.3605\n",
      "Epoch 2/10\n",
      "750/750 [==============================] - 8s 11ms/step - loss: 1.0522 - accuracy: 0.4168 - val_loss: 1.4926 - val_accuracy: 0.3674\n",
      "Epoch 3/10\n",
      "750/750 [==============================] - 8s 10ms/step - loss: 1.0366 - accuracy: 0.4416 - val_loss: 1.4922 - val_accuracy: 0.3666\n",
      "Performance of the model to unseen data: \n",
      "\n",
      "235/235 [==============================] - 12s 51ms/step - loss: 1.5019 - accuracy: 0.3644\n"
     ]
    },
    {
     "data": {
      "image/png": "[encoded data removed]",
      "text/plain": [
       "<Figure size 432x288 with 1 Axes>"
      ]
     },
     "metadata": {
      "needs_background": "light"
     },
     "output_type": "display_data"
    },
    {
     "data": {
      "image/png": "[encoded data removed]",
      "text/plain": [
       "<Figure size 432x288 with 1 Axes>"
      ]
     },
     "metadata": {
      "needs_background": "light"
     },
     "output_type": "display_data"
    }
   ],
   "source": [
    "run_model(input_layer, outputLayer, train_ds, val_ds, test_ds)"
   ]
  },
  {
   "cell_type": "code",
   "execution_count": null,
   "metadata": {},
   "outputs": [],
   "source": []
  }
 ],
 "metadata": {
  "kernelspec": {
   "display_name": "Python [conda env:.conda-oezkan_thesis]",
   "language": "python",
   "name": "conda-env-.conda-oezkan_thesis-py"
  },
  "language_info": {
   "codemirror_mode": {
    "name": "ipython",
    "version": 3
   },
   "file_extension": ".py",
   "mimetype": "text/x-python",
   "name": "python",
   "nbconvert_exporter": "python",
   "pygments_lexer": "ipython3",
   "version": "3.8.3"
  }
 },
 "nbformat": 4,
 "nbformat_minor": 2
}
