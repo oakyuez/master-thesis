{
 "cells": [
  {
   "cell_type": "code",
   "execution_count": 1,
   "metadata": {},
   "outputs": [],
   "source": [
    "import ktrain\n",
    "from ktrain import text"
   ]
  },
  {
   "cell_type": "markdown",
   "metadata": {},
   "source": [
    "## Load data"
   ]
  },
  {
   "cell_type": "code",
   "execution_count": 2,
   "metadata": {},
   "outputs": [
    {
     "name": "stdout",
     "output_type": "stream",
     "text": [
      "detected encoding: utf-8\n",
      "language: en\n",
      "Word Counts: 166125\n",
      "Nrows: 60000\n",
      "60000 train sequences\n",
      "train sequence lengths:\n",
      "\tmean : 256\n",
      "\t95percentile : 490\n",
      "\t99percentile : 523\n",
      "x_train shape: (60000,512)\n",
      "y_train shape: (60000, 3)\n",
      "Is Multi-Label? False\n",
      "15000 test sequences\n",
      "test sequence lengths:\n",
      "\tmean : 259\n",
      "\t95percentile : 490\n",
      "\t99percentile : 522\n",
      "x_test shape: (15000,512)\n",
      "y_test shape: (15000, 3)\n"
     ]
    }
   ],
   "source": [
    "trn, val, preproc = text.texts_from_folder(\"/home/jupyter-ozkan_ma/data/TXT/Ablation_Study_02/\", \n",
    "                                           max_features=20000, maxlen=512, \n",
    "                                           ngram_range=1, \n",
    "                                           preprocess_mode='standard',\n",
    "                                           classes=['Center', 'Left', 'Right'])"
   ]
  },
  {
   "cell_type": "markdown",
   "metadata": {},
   "source": [
    "## Inspection of available models"
   ]
  },
  {
   "cell_type": "code",
   "execution_count": 3,
   "metadata": {},
   "outputs": [
    {
     "name": "stdout",
     "output_type": "stream",
     "text": [
      "fasttext: a fastText-like model [http://arxiv.org/pdf/1607.01759.pdf]\n",
      "logreg: logistic regression using a trainable Embedding layer\n",
      "nbsvm: NBSVM model [http://www.aclweb.org/anthology/P12-2018]\n",
      "bigru: Bidirectional GRU with pretrained fasttext word vectors [https://fasttext.cc/docs/en/crawl-vectors.html]\n",
      "standard_gru: simple 2-layer GRU with randomly initialized embeddings\n",
      "bert: Bidirectional Encoder Representations from Transformers (BERT) [https://arxiv.org/abs/1810.04805]\n",
      "distilbert: distilled, smaller, and faster BERT from Hugging Face [https://arxiv.org/abs/1910.01108]\n"
     ]
    }
   ],
   "source": [
    "text.print_text_classifiers()"
   ]
  },
  {
   "cell_type": "markdown",
   "metadata": {},
   "source": [
    "## Apply the bigru model"
   ]
  },
  {
   "cell_type": "code",
   "execution_count": 4,
   "metadata": {},
   "outputs": [
    {
     "name": "stdout",
     "output_type": "stream",
     "text": [
      "Is Multi-Label? False\n",
      "compiling word ID features...\n",
      "maxlen is 512\n",
      "word vectors will be loaded from: https://dl.fbaipublicfiles.com/fasttext/vectors-crawl/cc.en.300.vec.gz\n",
      "processing pretrained word vectors...\n",
      "loading pretrained word vectors...this may take a few moments...\n"
     ]
    },
    {
     "data": {
      "text/html": [],
      "text/plain": [
       "<IPython.core.display.HTML object>"
      ]
     },
     "metadata": {},
     "output_type": "display_data"
    },
    {
     "name": "stdout",
     "output_type": "stream",
     "text": [
      "done.\n"
     ]
    }
   ],
   "source": [
    "bigru = text.text_classifier(\"bigru\", trn, preproc=preproc)"
   ]
  },
  {
   "cell_type": "code",
   "execution_count": 5,
   "metadata": {},
   "outputs": [],
   "source": [
    "learner_bigru = ktrain.get_learner(bigru, train_data=trn, val_data=val)"
   ]
  },
  {
   "cell_type": "code",
   "execution_count": 6,
   "metadata": {},
   "outputs": [
    {
     "name": "stdout",
     "output_type": "stream",
     "text": [
      "simulating training for different learning rates... this may take a few moments...\n",
      "Epoch 1/5\n",
      "1875/1875 [==============================] - 87s 47ms/step - loss: 1.0992 - accuracy: 0.3514\n",
      "Epoch 2/5\n",
      "1875/1875 [==============================] - 87s 46ms/step - loss: 1.0435 - accuracy: 0.4742\n",
      "Epoch 3/5\n",
      "1875/1875 [==============================] - 88s 47ms/step - loss: 0.5883 - accuracy: 0.7578\n",
      "Epoch 4/5\n",
      "1875/1875 [==============================] - 88s 47ms/step - loss: nan - accuracy: 0.4426\n",
      "Epoch 5/5\n",
      "1875/1875 [==============================] - 90s 48ms/step - loss: nan - accuracy: 0.3333\n",
      "\n",
      "\n",
      "done.\n",
      "Visually inspect loss plot and select learning rate associated with falling loss\n"
     ]
    },
    {
     "data": {
      "image/png": "[encoded data removed]",
      "text/plain": [
       "<Figure size 432x288 with 1 Axes>"
      ]
     },
     "metadata": {
      "needs_background": "light"
     },
     "output_type": "display_data"
    }
   ],
   "source": [
    "learner_bigru.lr_find(show_plot=True, max_epochs=5)"
   ]
  },
  {
   "cell_type": "code",
   "execution_count": 7,
   "metadata": {},
   "outputs": [
    {
     "data": {
      "text/plain": [
       "(0.00014971066, 0.0018998511135578156)"
      ]
     },
     "execution_count": 7,
     "metadata": {},
     "output_type": "execute_result"
    }
   ],
   "source": [
    "learner_bigru.lr_estimate()"
   ]
  },
  {
   "cell_type": "code",
   "execution_count": 8,
   "metadata": {},
   "outputs": [
    {
     "name": "stdout",
     "output_type": "stream",
     "text": [
      "Epoch 1/5\n",
      "1875/1875 [==============================] - 100s 53ms/step - loss: 0.5224 - accuracy: 0.7837 - val_loss: 0.3893 - val_accuracy: 0.8489\n",
      "Epoch 2/5\n",
      "1875/1875 [==============================] - 97s 52ms/step - loss: 0.2755 - accuracy: 0.8982 - val_loss: 0.3648 - val_accuracy: 0.8647\n",
      "Epoch 3/5\n",
      "1875/1875 [==============================] - 98s 52ms/step - loss: 0.1340 - accuracy: 0.9538 - val_loss: 0.4379 - val_accuracy: 0.8606\n",
      "Epoch 4/5\n",
      "1875/1875 [==============================] - 93s 50ms/step - loss: 0.0616 - accuracy: 0.9805 - val_loss: 0.5230 - val_accuracy: 0.8621\n",
      "Epoch 5/5\n",
      "1875/1875 [==============================] - 92s 49ms/step - loss: 0.0376 - accuracy: 0.9883 - val_loss: 0.6573 - val_accuracy: 0.8539\n"
     ]
    },
    {
     "data": {
      "text/plain": [
       "<tensorflow.python.keras.callbacks.History at 0x7f999e9a2b50>"
      ]
     },
     "execution_count": 8,
     "metadata": {},
     "output_type": "execute_result"
    }
   ],
   "source": [
    "learner_bigru.fit(learner_bigru.lr_estimate()[1], 5)"
   ]
  },
  {
   "cell_type": "code",
   "execution_count": null,
   "metadata": {},
   "outputs": [],
   "source": []
  }
 ],
 "metadata": {
  "kernelspec": {
   "display_name": "Python [conda env:.conda-oezkan_thesis]",
   "language": "python",
   "name": "conda-env-.conda-oezkan_thesis-py"
  },
  "language_info": {
   "codemirror_mode": {
    "name": "ipython",
    "version": 3
   },
   "file_extension": ".py",
   "mimetype": "text/x-python",
   "name": "python",
   "nbconvert_exporter": "python",
   "pygments_lexer": "ipython3",
   "version": "3.8.3"
  }
 },
 "nbformat": 4,
 "nbformat_minor": 2
}
