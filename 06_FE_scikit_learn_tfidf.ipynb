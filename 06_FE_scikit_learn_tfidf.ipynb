{
 "cells": [
  {
   "cell_type": "code",
   "execution_count": 1,
   "metadata": {},
   "outputs": [],
   "source": [
    "import pandas as pd\n",
    "import numpy as np\n",
    "from sklearn.feature_extraction.text import TfidfVectorizer\n",
    "from sklearn.preprocessing import LabelEncoder\n",
    "from sklearn.naive_bayes import BernoulliNB\n",
    "from sklearn.tree import DecisionTreeClassifier\n",
    "from sklearn.linear_model import LogisticRegression\n",
    "from sklearn.svm import LinearSVC\n",
    "from sklearn.metrics import accuracy_score, confusion_matrix, classification_report\n",
    "from sklearn.utils import shuffle, resample"
   ]
  },
  {
   "cell_type": "markdown",
   "metadata": {},
   "source": [
    "## Load data "
   ]
  },
  {
   "cell_type": "code",
   "execution_count": 2,
   "metadata": {},
   "outputs": [],
   "source": [
    "news = pd.read_csv(\"/home/jupyter-ozkan_ma/data/CSV/news_preprocessed_with_addtionalLabel.csv\", index_col=0)"
   ]
  },
  {
   "cell_type": "code",
   "execution_count": 3,
   "metadata": {},
   "outputs": [],
   "source": [
    "# Get the same train and test data\n",
    "def split_df_in_train_test(df):\n",
    "    df = df.reset_index()\n",
    "    split_point = int(np.round(df.shape[0]) * 0.8)\n",
    "    df_train = df.loc[:split_point-1,:]\n",
    "    df_test = df.loc[split_point:,:]\n",
    "    return df_train, df_test"
   ]
  },
  {
   "cell_type": "code",
   "execution_count": 4,
   "metadata": {},
   "outputs": [],
   "source": [
    "left_FE = resample(shuffle(news[(news[\"Label\"]==\"Left\") & (news[\"Length\"]<512)], random_state=42), \\\n",
    "         random_state=42, n_samples=15000)\n",
    "leanLeft_FE = resample(shuffle(news[(news[\"Label\"]==\"Lean Left\") & (news[\"Length\"]<512)], random_state=42), \\\n",
    "         random_state=42, n_samples=15000)\n",
    "center_FE = resample(shuffle(news[(news[\"Label\"]==\"Center\") & (news[\"Length\"]<512)], random_state=42), \\\n",
    "         random_state=42, n_samples=15000)\n",
    "leanRight_FE = resample(shuffle(news[(news[\"Label\"]==\"Lean Right\") & (news[\"Length\"]<512)], random_state=42), \\\n",
    "         random_state=42, n_samples=15000)\n",
    "right_FE = resample(shuffle(news[(news[\"Label\"]==\"Right\") & (news[\"Length\"]<512)], random_state=42), \\\n",
    "         random_state=42, n_samples=15000)"
   ]
  },
  {
   "cell_type": "code",
   "execution_count": 5,
   "metadata": {},
   "outputs": [],
   "source": [
    "train = pd.concat([split_df_in_train_test(left_FE)[0], \\\n",
    "    split_df_in_train_test(leanLeft_FE)[0], \\\n",
    "    split_df_in_train_test(center_FE)[0], \\\n",
    "    split_df_in_train_test(leanRight_FE)[0], \\\n",
    "    split_df_in_train_test(right_FE)[0]])"
   ]
  },
  {
   "cell_type": "code",
   "execution_count": 6,
   "metadata": {},
   "outputs": [],
   "source": [
    "test =  pd.concat([split_df_in_train_test(left_FE)[1], \\\n",
    "    split_df_in_train_test(leanLeft_FE)[1], \\\n",
    "    split_df_in_train_test(center_FE)[1], \\\n",
    "    split_df_in_train_test(leanRight_FE)[1], \\\n",
    "    split_df_in_train_test(right_FE)[1]])"
   ]
  },
  {
   "cell_type": "code",
   "execution_count": 7,
   "metadata": {},
   "outputs": [],
   "source": [
    "X_train, y_train = train[\"pre_content_str\"], train[\"Label\"]\n",
    "X_test, y_test = test[\"pre_content_str\"], test[\"Label\"]"
   ]
  },
  {
   "cell_type": "markdown",
   "metadata": {},
   "source": [
    "## Generate TFIDF vector"
   ]
  },
  {
   "cell_type": "markdown",
   "metadata": {},
   "source": [
    "### Bigram:"
   ]
  },
  {
   "cell_type": "code",
   "execution_count": 13,
   "metadata": {},
   "outputs": [],
   "source": [
    "bigram_vec = TfidfVectorizer(stop_words=\"english\", max_features=30000, ngram_range=(1, 2))\n",
    "\n",
    "X_train_bi = bigram_vec.fit_transform(X_train.apply(lambda x: np.str_(x)))\n",
    "X_test_bi = bigram_vec.transform(X_test.apply(lambda x: np.str_(x)))"
   ]
  },
  {
   "cell_type": "markdown",
   "metadata": {},
   "source": [
    "### Trigram"
   ]
  },
  {
   "cell_type": "code",
   "execution_count": 14,
   "metadata": {},
   "outputs": [],
   "source": [
    "trigram_vec = TfidfVectorizer(stop_words=\"english\", max_features=30000, ngram_range=(1, 3))\n",
    "\n",
    "X_train_tri = trigram_vec.fit_transform(X_train.apply(lambda x: np.str_(x)))\n",
    "X_test_tri = trigram_vec.transform(X_test.apply(lambda x: np.str_(x)))"
   ]
  },
  {
   "cell_type": "markdown",
   "metadata": {},
   "source": [
    "## Generate LabelEncoder"
   ]
  },
  {
   "cell_type": "code",
   "execution_count": 15,
   "metadata": {},
   "outputs": [],
   "source": [
    "label_enc = LabelEncoder()\n",
    "y_train_enc = label_enc.fit_transform(y_train)\n",
    "y_test_enc = label_enc.fit_transform(y_test)"
   ]
  },
  {
   "cell_type": "code",
   "execution_count": 16,
   "metadata": {},
   "outputs": [
    {
     "data": {
      "text/plain": [
       "array(['Center', 'Lean Left', 'Lean Right', 'Left', 'Right'], dtype=object)"
      ]
     },
     "execution_count": 16,
     "metadata": {},
     "output_type": "execute_result"
    }
   ],
   "source": [
    "label_enc.inverse_transform([0, 1, 2, 3, 4]) "
   ]
  },
  {
   "cell_type": "code",
   "execution_count": 17,
   "metadata": {},
   "outputs": [],
   "source": [
    "label = [0, 1, 2, 3, 4]\n",
    "target_label = [\"Center\", \"Lean Left\", \"Lean Right\", \"Left\", \"Right\"]"
   ]
  },
  {
   "cell_type": "markdown",
   "metadata": {},
   "source": [
    "## Apply classifiers"
   ]
  },
  {
   "cell_type": "code",
   "execution_count": 18,
   "metadata": {},
   "outputs": [],
   "source": [
    "def run_classifier(clf, X_train, X_test, y_train, y_test, label, target_label):\n",
    "    \n",
    "    print(\"Training of the classifier: {} \\n\".format(clf))\n",
    "    clf.fit(X_train, y_train)\n",
    "    y_pred = clf.predict(X_test)\n",
    "\n",
    "    print(\"\\n\")\n",
    "\n",
    "    print(\"Accuracy of the classifier:     \")\n",
    "    accuracy = accuracy_score(y_test, y_pred)\n",
    "    print(accuracy)\n",
    "\n",
    "    print(\"\\n\")\n",
    "\n",
    "    print(\"Confusion Matrix of the classifier: \\n\")\n",
    "    con_mat = confusion_matrix(y_test, y_pred, labels=label)\n",
    "    print(con_mat)\n",
    "\n",
    "    print(\"\\n\")\n",
    "\n",
    "    print(\"Classification Report of the classifier: \\n\")\n",
    "    report = classification_report(y_test, y_pred, target_names=target_label)\n",
    "    print(report)"
   ]
  },
  {
   "cell_type": "code",
   "execution_count": 24,
   "metadata": {},
   "outputs": [],
   "source": [
    "dt = DecisionTreeClassifier(random_state=42)\n",
    "svc = LinearSVC()\n",
    "lr = LogisticRegression(multi_class=\"multinomial\", solver=\"saga\")\n",
    "nb = BernoulliNB()"
   ]
  },
  {
   "cell_type": "markdown",
   "metadata": {},
   "source": [
    "### ...using with bigrams"
   ]
  },
  {
   "cell_type": "markdown",
   "metadata": {},
   "source": [
    "#### Decision Tree"
   ]
  },
  {
   "cell_type": "code",
   "execution_count": 20,
   "metadata": {},
   "outputs": [
    {
     "name": "stdout",
     "output_type": "stream",
     "text": [
      "Training of the classifier: DecisionTreeClassifier(class_weight=None, criterion='gini', max_depth=None,\n",
      "                       max_features=None, max_leaf_nodes=None,\n",
      "                       min_impurity_decrease=0.0, min_impurity_split=None,\n",
      "                       min_samples_leaf=1, min_samples_split=2,\n",
      "                       min_weight_fraction_leaf=0.0, presort=False,\n",
      "                       random_state=42, splitter='best') \n",
      "\n",
      "\n",
      "\n",
      "Accuracy of the classifier:     \n",
      "0.6266\n",
      "\n",
      "\n",
      "Confusion Matrix of the classifier: \n",
      "\n",
      "[[1860  297  273  259  311]\n",
      " [ 284 1855  262  265  334]\n",
      " [ 265  269 2032  159  275]\n",
      " [ 278  262  161 1997  302]\n",
      " [ 317  346  345  337 1655]]\n",
      "\n",
      "\n",
      "Classification Report of the classifier: \n",
      "\n",
      "              precision    recall  f1-score   support\n",
      "\n",
      "      Center       0.62      0.62      0.62      3000\n",
      "   Lean Left       0.61      0.62      0.62      3000\n",
      "  Lean Right       0.66      0.68      0.67      3000\n",
      "        Left       0.66      0.67      0.66      3000\n",
      "       Right       0.58      0.55      0.56      3000\n",
      "\n",
      "    accuracy                           0.63     15000\n",
      "   macro avg       0.63      0.63      0.63     15000\n",
      "weighted avg       0.63      0.63      0.63     15000\n",
      "\n"
     ]
    }
   ],
   "source": [
    "run_classifier(dt, X_train_bi, X_test_bi, y_train_enc, y_test_enc, label, target_label)"
   ]
  },
  {
   "cell_type": "markdown",
   "metadata": {},
   "source": [
    "#### Naive Bayes"
   ]
  },
  {
   "cell_type": "code",
   "execution_count": 21,
   "metadata": {},
   "outputs": [
    {
     "name": "stdout",
     "output_type": "stream",
     "text": [
      "Training of the classifier: BernoulliNB(alpha=1.0, binarize=0.0, class_prior=None, fit_prior=True) \n",
      "\n",
      "\n",
      "\n",
      "Accuracy of the classifier:     \n",
      "0.5291333333333333\n",
      "\n",
      "\n",
      "Confusion Matrix of the classifier: \n",
      "\n",
      "[[ 935  335 1147  454  129]\n",
      " [ 177 1317  666  620  220]\n",
      " [ 190  189 2215  221  185]\n",
      " [ 120  209  415 2069  187]\n",
      " [ 145  270  668  516 1401]]\n",
      "\n",
      "\n",
      "Classification Report of the classifier: \n",
      "\n",
      "              precision    recall  f1-score   support\n",
      "\n",
      "      Center       0.60      0.31      0.41      3000\n",
      "   Lean Left       0.57      0.44      0.50      3000\n",
      "  Lean Right       0.43      0.74      0.55      3000\n",
      "        Left       0.53      0.69      0.60      3000\n",
      "       Right       0.66      0.47      0.55      3000\n",
      "\n",
      "    accuracy                           0.53     15000\n",
      "   macro avg       0.56      0.53      0.52     15000\n",
      "weighted avg       0.56      0.53      0.52     15000\n",
      "\n"
     ]
    }
   ],
   "source": [
    "run_classifier(nb, X_train_bi, X_test_bi, y_train_enc, y_test_enc, label, target_label)"
   ]
  },
  {
   "cell_type": "markdown",
   "metadata": {},
   "source": [
    "#### Support Vector Machine"
   ]
  },
  {
   "cell_type": "code",
   "execution_count": 22,
   "metadata": {},
   "outputs": [
    {
     "name": "stdout",
     "output_type": "stream",
     "text": [
      "Training of the classifier: LinearSVC(C=1.0, class_weight=None, dual=True, fit_intercept=True,\n",
      "          intercept_scaling=1, loss='squared_hinge', max_iter=1000,\n",
      "          multi_class='ovr', penalty='l2', random_state=None, tol=0.0001,\n",
      "          verbose=0) \n",
      "\n",
      "\n",
      "\n",
      "Accuracy of the classifier:     \n",
      "0.7019333333333333\n",
      "\n",
      "\n",
      "Confusion Matrix of the classifier: \n",
      "\n",
      "[[1938  248  374  221  219]\n",
      " [ 231 2105  253  210  201]\n",
      " [ 267  236 2146  113  238]\n",
      " [ 202  164  103 2336  195]\n",
      " [ 237  248  239  272 2004]]\n",
      "\n",
      "\n",
      "Classification Report of the classifier: \n",
      "\n",
      "              precision    recall  f1-score   support\n",
      "\n",
      "      Center       0.67      0.65      0.66      3000\n",
      "   Lean Left       0.70      0.70      0.70      3000\n",
      "  Lean Right       0.69      0.72      0.70      3000\n",
      "        Left       0.74      0.78      0.76      3000\n",
      "       Right       0.70      0.67      0.68      3000\n",
      "\n",
      "    accuracy                           0.70     15000\n",
      "   macro avg       0.70      0.70      0.70     15000\n",
      "weighted avg       0.70      0.70      0.70     15000\n",
      "\n"
     ]
    }
   ],
   "source": [
    "run_classifier(svc, X_train_bi, X_test_bi, y_train_enc, y_test_enc, label, target_label)"
   ]
  },
  {
   "cell_type": "markdown",
   "metadata": {},
   "source": [
    "#### Logistic Regression"
   ]
  },
  {
   "cell_type": "code",
   "execution_count": 25,
   "metadata": {},
   "outputs": [
    {
     "name": "stdout",
     "output_type": "stream",
     "text": [
      "Training of the classifier: LogisticRegression(C=1.0, class_weight=None, dual=False, fit_intercept=True,\n",
      "                   intercept_scaling=1, l1_ratio=None, max_iter=100,\n",
      "                   multi_class='multinomial', n_jobs=None, penalty='l2',\n",
      "                   random_state=None, solver='saga', tol=0.0001, verbose=0,\n",
      "                   warm_start=False) \n",
      "\n",
      "\n",
      "\n",
      "Accuracy of the classifier:     \n",
      "0.6770666666666667\n",
      "\n",
      "\n",
      "Confusion Matrix of the classifier: \n",
      "\n",
      "[[1777  309  392  281  241]\n",
      " [ 233 1996  285  263  223]\n",
      " [ 281  234 2120  109  256]\n",
      " [ 218  170   87 2290  235]\n",
      " [ 248  247  253  279 1973]]\n",
      "\n",
      "\n",
      "Classification Report of the classifier: \n",
      "\n",
      "              precision    recall  f1-score   support\n",
      "\n",
      "      Center       0.64      0.59      0.62      3000\n",
      "   Lean Left       0.68      0.67      0.67      3000\n",
      "  Lean Right       0.68      0.71      0.69      3000\n",
      "        Left       0.71      0.76      0.74      3000\n",
      "       Right       0.67      0.66      0.67      3000\n",
      "\n",
      "    accuracy                           0.68     15000\n",
      "   macro avg       0.68      0.68      0.68     15000\n",
      "weighted avg       0.68      0.68      0.68     15000\n",
      "\n"
     ]
    }
   ],
   "source": [
    "run_classifier(lr, X_train_bi, X_test_bi, y_train_enc, y_test_enc, label, target_label)"
   ]
  },
  {
   "cell_type": "markdown",
   "metadata": {},
   "source": [
    "### ...using trigrams"
   ]
  },
  {
   "cell_type": "markdown",
   "metadata": {},
   "source": [
    "#### Decision Tree"
   ]
  },
  {
   "cell_type": "code",
   "execution_count": 26,
   "metadata": {},
   "outputs": [
    {
     "name": "stdout",
     "output_type": "stream",
     "text": [
      "Training of the classifier: DecisionTreeClassifier(class_weight=None, criterion='gini', max_depth=None,\n",
      "                       max_features=None, max_leaf_nodes=None,\n",
      "                       min_impurity_decrease=0.0, min_impurity_split=None,\n",
      "                       min_samples_leaf=1, min_samples_split=2,\n",
      "                       min_weight_fraction_leaf=0.0, presort=False,\n",
      "                       random_state=42, splitter='best') \n",
      "\n",
      "\n",
      "\n",
      "Accuracy of the classifier:     \n",
      "0.624\n",
      "\n",
      "\n",
      "Confusion Matrix of the classifier: \n",
      "\n",
      "[[1857  298  295  257  293]\n",
      " [ 289 1816  273  292  330]\n",
      " [ 251  250 2051  157  291]\n",
      " [ 275  284  181 1989  271]\n",
      " [ 305  353  350  345 1647]]\n",
      "\n",
      "\n",
      "Classification Report of the classifier: \n",
      "\n",
      "              precision    recall  f1-score   support\n",
      "\n",
      "      Center       0.62      0.62      0.62      3000\n",
      "   Lean Left       0.61      0.61      0.61      3000\n",
      "  Lean Right       0.65      0.68      0.67      3000\n",
      "        Left       0.65      0.66      0.66      3000\n",
      "       Right       0.58      0.55      0.56      3000\n",
      "\n",
      "    accuracy                           0.62     15000\n",
      "   macro avg       0.62      0.62      0.62     15000\n",
      "weighted avg       0.62      0.62      0.62     15000\n",
      "\n"
     ]
    }
   ],
   "source": [
    "run_classifier(dt, X_train_tri, X_test_tri, y_train_enc, y_test_enc, label, target_label)"
   ]
  },
  {
   "cell_type": "markdown",
   "metadata": {},
   "source": [
    "#### Naive Bayes"
   ]
  },
  {
   "cell_type": "code",
   "execution_count": 27,
   "metadata": {},
   "outputs": [
    {
     "name": "stdout",
     "output_type": "stream",
     "text": [
      "Training of the classifier: BernoulliNB(alpha=1.0, binarize=0.0, class_prior=None, fit_prior=True) \n",
      "\n",
      "\n",
      "\n",
      "Accuracy of the classifier:     \n",
      "0.5288666666666667\n",
      "\n",
      "\n",
      "Confusion Matrix of the classifier: \n",
      "\n",
      "[[ 870  323 1227  460  120]\n",
      " [ 151 1348  680  627  194]\n",
      " [ 157  199 2258  210  176]\n",
      " [  99  194  449 2075  183]\n",
      " [ 118  261  733  506 1382]]\n",
      "\n",
      "\n",
      "Classification Report of the classifier: \n",
      "\n",
      "              precision    recall  f1-score   support\n",
      "\n",
      "      Center       0.62      0.29      0.40      3000\n",
      "   Lean Left       0.58      0.45      0.51      3000\n",
      "  Lean Right       0.42      0.75      0.54      3000\n",
      "        Left       0.54      0.69      0.60      3000\n",
      "       Right       0.67      0.46      0.55      3000\n",
      "\n",
      "    accuracy                           0.53     15000\n",
      "   macro avg       0.57      0.53      0.52     15000\n",
      "weighted avg       0.57      0.53      0.52     15000\n",
      "\n"
     ]
    }
   ],
   "source": [
    "run_classifier(nb, X_train_tri, X_test_tri, y_train_enc, y_test_enc, label, target_label)"
   ]
  },
  {
   "cell_type": "markdown",
   "metadata": {},
   "source": [
    "#### Support Vector Machine"
   ]
  },
  {
   "cell_type": "code",
   "execution_count": 29,
   "metadata": {},
   "outputs": [
    {
     "name": "stdout",
     "output_type": "stream",
     "text": [
      "Training of the classifier: LinearSVC(C=1.0, class_weight=None, dual=True, fit_intercept=True,\n",
      "          intercept_scaling=1, loss='squared_hinge', max_iter=1000,\n",
      "          multi_class='ovr', penalty='l2', random_state=None, tol=0.0001,\n",
      "          verbose=0) \n",
      "\n",
      "\n",
      "\n",
      "Accuracy of the classifier:     \n",
      "0.7022\n",
      "\n",
      "\n",
      "Confusion Matrix of the classifier: \n",
      "\n",
      "[[1947  235  368  215  235]\n",
      " [ 233 2093  255  213  206]\n",
      " [ 272  228 2141  115  244]\n",
      " [ 198  171   98 2337  196]\n",
      " [ 243  233  252  257 2015]]\n",
      "\n",
      "\n",
      "Classification Report of the classifier: \n",
      "\n",
      "              precision    recall  f1-score   support\n",
      "\n",
      "      Center       0.67      0.65      0.66      3000\n",
      "   Lean Left       0.71      0.70      0.70      3000\n",
      "  Lean Right       0.69      0.71      0.70      3000\n",
      "        Left       0.74      0.78      0.76      3000\n",
      "       Right       0.70      0.67      0.68      3000\n",
      "\n",
      "    accuracy                           0.70     15000\n",
      "   macro avg       0.70      0.70      0.70     15000\n",
      "weighted avg       0.70      0.70      0.70     15000\n",
      "\n"
     ]
    }
   ],
   "source": [
    "run_classifier(svc, X_train_tri, X_test_tri, y_train_enc, y_test_enc, label, target_label)"
   ]
  },
  {
   "cell_type": "markdown",
   "metadata": {},
   "source": [
    "#### Logistic Regression"
   ]
  },
  {
   "cell_type": "code",
   "execution_count": 30,
   "metadata": {},
   "outputs": [
    {
     "name": "stdout",
     "output_type": "stream",
     "text": [
      "Training of the classifier: LogisticRegression(C=1.0, class_weight=None, dual=False, fit_intercept=True,\n",
      "                   intercept_scaling=1, l1_ratio=None, max_iter=100,\n",
      "                   multi_class='multinomial', n_jobs=None, penalty='l2',\n",
      "                   random_state=None, solver='saga', tol=0.0001, verbose=0,\n",
      "                   warm_start=False) \n",
      "\n",
      "\n",
      "\n",
      "Accuracy of the classifier:     \n",
      "0.6796666666666666\n",
      "\n",
      "\n",
      "Confusion Matrix of the classifier: \n",
      "\n",
      "[[1788  305  391  273  243]\n",
      " [ 242 2003  284  262  209]\n",
      " [ 279  236 2123  111  251]\n",
      " [ 220  167   86 2298  229]\n",
      " [ 255  234  253  275 1983]]\n",
      "\n",
      "\n",
      "Classification Report of the classifier: \n",
      "\n",
      "              precision    recall  f1-score   support\n",
      "\n",
      "      Center       0.64      0.60      0.62      3000\n",
      "   Lean Left       0.68      0.67      0.67      3000\n",
      "  Lean Right       0.68      0.71      0.69      3000\n",
      "        Left       0.71      0.77      0.74      3000\n",
      "       Right       0.68      0.66      0.67      3000\n",
      "\n",
      "    accuracy                           0.68     15000\n",
      "   macro avg       0.68      0.68      0.68     15000\n",
      "weighted avg       0.68      0.68      0.68     15000\n",
      "\n"
     ]
    }
   ],
   "source": [
    "run_classifier(lr, X_train_tri, X_test_tri, y_train_enc, y_test_enc, label, target_label)"
   ]
  },
  {
   "cell_type": "code",
   "execution_count": null,
   "metadata": {},
   "outputs": [],
   "source": []
  }
 ],
 "metadata": {
  "kernelspec": {
   "display_name": "Python [conda env:.conda-oezkan_thesis]",
   "language": "python",
   "name": "conda-env-.conda-oezkan_thesis-py"
  },
  "language_info": {
   "codemirror_mode": {
    "name": "ipython",
    "version": 3
   },
   "file_extension": ".py",
   "mimetype": "text/x-python",
   "name": "python",
   "nbconvert_exporter": "python",
   "pygments_lexer": "ipython3",
   "version": "3.8.3"
  }
 },
 "nbformat": 4,
 "nbformat_minor": 2
}
