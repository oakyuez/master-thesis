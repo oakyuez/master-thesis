{
 "cells": [
  {
   "cell_type": "code",
   "execution_count": 1,
   "metadata": {},
   "outputs": [],
   "source": [
    "import ktrain\n",
    "from ktrain import text"
   ]
  },
  {
   "cell_type": "markdown",
   "metadata": {},
   "source": [
    "## Loading data"
   ]
  },
  {
   "cell_type": "code",
   "execution_count": 2,
   "metadata": {},
   "outputs": [
    {
     "name": "stdout",
     "output_type": "stream",
     "text": [
      "detected encoding: utf-8\n",
      "language: en\n",
      "Word Counts: 166798\n",
      "Nrows: 60000\n",
      "60000 train sequences\n",
      "train sequence lengths:\n",
      "\tmean : 256\n",
      "\t95percentile : 491\n",
      "\t99percentile : 523\n",
      "x_train shape: (60000,512)\n",
      "y_train shape: (60000, 5)\n",
      "Is Multi-Label? False\n",
      "15000 test sequences\n",
      "test sequence lengths:\n",
      "\tmean : 261\n",
      "\t95percentile : 492\n",
      "\t99percentile : 524\n",
      "x_test shape: (15000,512)\n",
      "y_test shape: (15000, 5)\n"
     ]
    }
   ],
   "source": [
    "trn, val, preproc = text.texts_from_folder(\"/home/jupyter-ozkan_ma/data/TXT/Full_Experiment/\", \n",
    "                                           max_features=20000, maxlen=512, \n",
    "                                           ngram_range=1, \n",
    "                                           preprocess_mode='standard',\n",
    "                                           classes=['Center', 'LeanLeft', 'LeanRight', 'Left', 'Right'])"
   ]
  },
  {
   "cell_type": "markdown",
   "metadata": {},
   "source": [
    "## Inspection of available classifiers"
   ]
  },
  {
   "cell_type": "code",
   "execution_count": 3,
   "metadata": {},
   "outputs": [
    {
     "name": "stdout",
     "output_type": "stream",
     "text": [
      "fasttext: a fastText-like model [http://arxiv.org/pdf/1607.01759.pdf]\n",
      "logreg: logistic regression using a trainable Embedding layer\n",
      "nbsvm: NBSVM model [http://www.aclweb.org/anthology/P12-2018]\n",
      "bigru: Bidirectional GRU with pretrained fasttext word vectors [https://fasttext.cc/docs/en/crawl-vectors.html]\n",
      "standard_gru: simple 2-layer GRU with randomly initialized embeddings\n",
      "bert: Bidirectional Encoder Representations from Transformers (BERT) [https://arxiv.org/abs/1810.04805]\n",
      "distilbert: distilled, smaller, and faster BERT from Hugging Face [https://arxiv.org/abs/1910.01108]\n"
     ]
    }
   ],
   "source": [
    "text.print_text_classifiers()"
   ]
  },
  {
   "cell_type": "markdown",
   "metadata": {},
   "source": [
    "### Applying the fasttext model (mod_17):"
   ]
  },
  {
   "cell_type": "code",
   "execution_count": 4,
   "metadata": {},
   "outputs": [
    {
     "name": "stdout",
     "output_type": "stream",
     "text": [
      "Is Multi-Label? False\n",
      "compiling word ID features...\n",
      "maxlen is 512\n",
      "done.\n"
     ]
    }
   ],
   "source": [
    "fasttext = text.text_classifier(\"fasttext\", trn, preproc=preproc)"
   ]
  },
  {
   "cell_type": "code",
   "execution_count": 5,
   "metadata": {},
   "outputs": [],
   "source": [
    "learner_ft = ktrain.get_learner(fasttext, train_data=trn, val_data=val)"
   ]
  },
  {
   "cell_type": "code",
   "execution_count": 7,
   "metadata": {},
   "outputs": [
    {
     "name": "stdout",
     "output_type": "stream",
     "text": [
      "simulating training for different learning rates... this may take a few moments...\n",
      "Epoch 1/5\n",
      "1875/1875 [==============================] - 24s 13ms/step - loss: 2.1702 - accuracy: 0.1963\n",
      "Epoch 2/5\n",
      "1875/1875 [==============================] - 24s 13ms/step - loss: 2.0553 - accuracy: 0.2080\n",
      "Epoch 3/5\n",
      "1875/1875 [==============================] - 18s 10ms/step - loss: 1.5531 - accuracy: 0.3383\n",
      "Epoch 4/5\n",
      "1875/1875 [==============================] - 24s 13ms/step - loss: 1.4940 - accuracy: 0.3191\n",
      "Epoch 5/5\n",
      "1875/1875 [==============================] - 24s 13ms/step - loss: 1.8197 - accuracy: 0.1995\n",
      "\n",
      "\n",
      "done.\n",
      "Visually inspect loss plot and select learning rate associated with falling loss\n"
     ]
    },
    {
     "data": {
      "image/png": "[encoded data removed]",
      "text/plain": [
       "<Figure size 432x288 with 1 Axes>"
      ]
     },
     "metadata": {
      "needs_background": "light"
     },
     "output_type": "display_data"
    }
   ],
   "source": [
    "learner_ft.lr_find(show_plot=True, max_epochs=5)"
   ]
  },
  {
   "cell_type": "code",
   "execution_count": 8,
   "metadata": {},
   "outputs": [
    {
     "data": {
      "text/plain": [
       "(0.0059600915, 0.0009607558138668537)"
      ]
     },
     "execution_count": 8,
     "metadata": {},
     "output_type": "execute_result"
    }
   ],
   "source": [
    "learner_ft.lr_estimate()"
   ]
  },
  {
   "cell_type": "code",
   "execution_count": 9,
   "metadata": {},
   "outputs": [
    {
     "name": "stdout",
     "output_type": "stream",
     "text": [
      "Epoch 1/5\n",
      "1875/1875 [==============================] - 26s 14ms/step - loss: 1.4927 - accuracy: 0.3636 - val_loss: 1.1555 - val_accuracy: 0.5539\n",
      "Epoch 2/5\n",
      "1875/1875 [==============================] - 25s 13ms/step - loss: 1.2165 - accuracy: 0.5099 - val_loss: 1.0084 - val_accuracy: 0.6293\n",
      "Epoch 3/5\n",
      "1875/1875 [==============================] - 25s 14ms/step - loss: 1.1049 - accuracy: 0.5697 - val_loss: 0.9283 - val_accuracy: 0.6589\n",
      "Epoch 4/5\n",
      "1875/1875 [==============================] - 25s 13ms/step - loss: 1.0401 - accuracy: 0.5989 - val_loss: 0.8862 - val_accuracy: 0.6747\n",
      "Epoch 5/5\n",
      "1875/1875 [==============================] - 18s 10ms/step - loss: 0.9850 - accuracy: 0.6237 - val_loss: 0.8527 - val_accuracy: 0.6869\n"
     ]
    },
    {
     "data": {
      "text/plain": [
       "<tensorflow.python.keras.callbacks.History at 0x7f670ba0b4c0>"
      ]
     },
     "execution_count": 9,
     "metadata": {},
     "output_type": "execute_result"
    }
   ],
   "source": [
    "learner_ft.fit(learner_ft.lr_estimate()[1], 5)"
   ]
  },
  {
   "cell_type": "code",
   "execution_count": 30,
   "metadata": {},
   "outputs": [
    {
     "name": "stdout",
     "output_type": "stream",
     "text": [
      "Epoch 1/5\n",
      "1875/1875 [==============================] - 6s 3ms/step - loss: 0.9428 - accuracy: 0.6421 - val_loss: 0.8358 - val_accuracy: 0.6912\n",
      "Epoch 2/5\n",
      "1875/1875 [==============================] - 6s 3ms/step - loss: 0.9065 - accuracy: 0.6569 - val_loss: 0.8168 - val_accuracy: 0.6987\n",
      "Epoch 3/5\n",
      "1875/1875 [==============================] - 6s 3ms/step - loss: 0.8855 - accuracy: 0.6670 - val_loss: 0.8103 - val_accuracy: 0.7061\n",
      "Epoch 4/5\n",
      "1875/1875 [==============================] - 6s 3ms/step - loss: 0.8646 - accuracy: 0.6737 - val_loss: 0.7949 - val_accuracy: 0.7067\n",
      "Epoch 5/5\n",
      "1875/1875 [==============================] - 6s 3ms/step - loss: 0.8385 - accuracy: 0.6866 - val_loss: 0.7899 - val_accuracy: 0.7063\n"
     ]
    },
    {
     "data": {
      "text/plain": [
       "<tensorflow.python.keras.callbacks.History at 0x7f6644296ca0>"
      ]
     },
     "execution_count": 30,
     "metadata": {},
     "output_type": "execute_result"
    }
   ],
   "source": [
    "# Since val_loss still decreass train for 5 epochs\n",
    "learner_ft.fit(learner_ft.lr_estimate()[1], 5)"
   ]
  },
  {
   "cell_type": "code",
   "execution_count": 31,
   "metadata": {},
   "outputs": [
    {
     "name": "stdout",
     "output_type": "stream",
     "text": [
      "Epoch 1/5\n",
      "1875/1875 [==============================] - 6s 3ms/step - loss: 0.8175 - accuracy: 0.6962 - val_loss: 0.7841 - val_accuracy: 0.7129\n",
      "Epoch 2/5\n",
      "1875/1875 [==============================] - 6s 3ms/step - loss: 0.8053 - accuracy: 0.7008 - val_loss: 0.7761 - val_accuracy: 0.7161\n",
      "Epoch 3/5\n",
      "1875/1875 [==============================] - 6s 3ms/step - loss: 0.7831 - accuracy: 0.7071 - val_loss: 0.7739 - val_accuracy: 0.7121\n",
      "Epoch 4/5\n",
      "1875/1875 [==============================] - 6s 3ms/step - loss: 0.7643 - accuracy: 0.7178 - val_loss: 0.7638 - val_accuracy: 0.7205\n",
      "Epoch 5/5\n",
      "1875/1875 [==============================] - 6s 3ms/step - loss: 0.7567 - accuracy: 0.7207 - val_loss: 0.7635 - val_accuracy: 0.7211\n"
     ]
    },
    {
     "data": {
      "text/plain": [
       "<tensorflow.python.keras.callbacks.History at 0x7f66442280a0>"
      ]
     },
     "execution_count": 31,
     "metadata": {},
     "output_type": "execute_result"
    }
   ],
   "source": [
    "# Since val_loss still decreass train for 5 epochs\n",
    "learner_ft.fit(learner_ft.lr_estimate()[1], 5)"
   ]
  },
  {
   "cell_type": "code",
   "execution_count": 32,
   "metadata": {},
   "outputs": [
    {
     "name": "stdout",
     "output_type": "stream",
     "text": [
      "Epoch 1/5\n",
      "1875/1875 [==============================] - 6s 3ms/step - loss: 0.7380 - accuracy: 0.7302 - val_loss: 0.7581 - val_accuracy: 0.7221\n",
      "Epoch 2/5\n",
      "1875/1875 [==============================] - 6s 3ms/step - loss: 0.7287 - accuracy: 0.7328 - val_loss: 0.7572 - val_accuracy: 0.7239\n",
      "Epoch 3/5\n",
      "1875/1875 [==============================] - 6s 3ms/step - loss: 0.7142 - accuracy: 0.7409 - val_loss: 0.7566 - val_accuracy: 0.7240\n",
      "Epoch 4/5\n",
      "1875/1875 [==============================] - 6s 3ms/step - loss: 0.6956 - accuracy: 0.7459 - val_loss: 0.7502 - val_accuracy: 0.7290\n",
      "Epoch 5/5\n",
      "1875/1875 [==============================] - 6s 3ms/step - loss: 0.6851 - accuracy: 0.7497 - val_loss: 0.7544 - val_accuracy: 0.7281\n"
     ]
    },
    {
     "data": {
      "text/plain": [
       "<tensorflow.python.keras.callbacks.History at 0x7f664438f820>"
      ]
     },
     "execution_count": 32,
     "metadata": {},
     "output_type": "execute_result"
    }
   ],
   "source": [
    "# Since val_loss still decreass train for 5 epochs\n",
    "learner_ft.fit(learner_ft.lr_estimate()[1], 5)"
   ]
  },
  {
   "cell_type": "markdown",
   "metadata": {},
   "source": [
    "## Applying the logreg model: (mod_18)"
   ]
  },
  {
   "cell_type": "code",
   "execution_count": 10,
   "metadata": {},
   "outputs": [
    {
     "name": "stdout",
     "output_type": "stream",
     "text": [
      "Is Multi-Label? False\n",
      "compiling word ID features...\n",
      "maxlen is 512\n",
      "done.\n"
     ]
    }
   ],
   "source": [
    "logreg = text.text_classifier(\"logreg\", trn, preproc=preproc)"
   ]
  },
  {
   "cell_type": "code",
   "execution_count": 11,
   "metadata": {},
   "outputs": [],
   "source": [
    "learner_log = ktrain.get_learner(logreg, train_data=trn, val_data=val)"
   ]
  },
  {
   "cell_type": "code",
   "execution_count": 12,
   "metadata": {},
   "outputs": [
    {
     "name": "stdout",
     "output_type": "stream",
     "text": [
      "simulating training for different learning rates... this may take a few moments...\n",
      "Epoch 1/10\n",
      "1875/1875 [==============================] - 23s 12ms/step - loss: 1.7146 - accuracy: 0.2021\n",
      "Epoch 2/10\n",
      "1875/1875 [==============================] - 14s 7ms/step - loss: 1.6671 - accuracy: 0.2077\n",
      "Epoch 3/10\n",
      "1875/1875 [==============================] - 23s 12ms/step - loss: 1.5673 - accuracy: 0.2957\n",
      "Epoch 4/10\n",
      "1875/1875 [==============================] - 23s 12ms/step - loss: 1.3564 - accuracy: 0.5022\n",
      "Epoch 5/10\n",
      "1875/1875 [==============================] - 23s 12ms/step - loss: 1.0462 - accuracy: 0.6454\n",
      "Epoch 6/10\n",
      "1875/1875 [==============================] - 23s 12ms/step - loss: 0.8784 - accuracy: 0.6938\n",
      "Epoch 7/10\n",
      "1875/1875 [==============================] - 23s 12ms/step - loss: 2.2966 - accuracy: 0.6396\n",
      "Epoch 8/10\n",
      "1875/1875 [==============================] - 20s 11ms/step - loss: 5.3737 - accuracy: 0.6538\n",
      "\n",
      "\n",
      "done.\n",
      "Visually inspect loss plot and select learning rate associated with falling loss\n"
     ]
    },
    {
     "data": {
      "image/png": "[encoded data removed]",
      "text/plain": [
       "<Figure size 432x288 with 1 Axes>"
      ]
     },
     "metadata": {
      "needs_background": "light"
     },
     "output_type": "display_data"
    }
   ],
   "source": [
    "learner_log.lr_find(show_plot=True, max_epochs=10)"
   ]
  },
  {
   "cell_type": "code",
   "execution_count": 13,
   "metadata": {},
   "outputs": [
    {
     "data": {
      "text/plain": [
       "(0.00096904906, 0.0007119994610548019)"
      ]
     },
     "execution_count": 13,
     "metadata": {},
     "output_type": "execute_result"
    }
   ],
   "source": [
    "learner_log.lr_estimate()"
   ]
  },
  {
   "cell_type": "code",
   "execution_count": 14,
   "metadata": {},
   "outputs": [
    {
     "name": "stdout",
     "output_type": "stream",
     "text": [
      "Epoch 1/10\n",
      "1875/1875 [==============================] - 24s 13ms/step - loss: 1.0525 - accuracy: 0.6205 - val_loss: 0.8941 - val_accuracy: 0.6815\n",
      "Epoch 2/10\n",
      "1875/1875 [==============================] - 24s 13ms/step - loss: 0.7328 - accuracy: 0.7530 - val_loss: 0.8356 - val_accuracy: 0.6986\n",
      "Epoch 3/10\n",
      "1875/1875 [==============================] - 24s 13ms/step - loss: 0.6094 - accuracy: 0.7998 - val_loss: 0.8239 - val_accuracy: 0.7084\n",
      "Epoch 4/10\n",
      "1875/1875 [==============================] - 24s 13ms/step - loss: 0.5294 - accuracy: 0.8286 - val_loss: 0.8299 - val_accuracy: 0.7099\n",
      "Epoch 5/10\n",
      "1875/1875 [==============================] - 24s 13ms/step - loss: 0.4715 - accuracy: 0.8514 - val_loss: 0.8416 - val_accuracy: 0.7069\n",
      "Epoch 6/10\n",
      "1875/1875 [==============================] - 18s 10ms/step - loss: 0.4258 - accuracy: 0.8674 - val_loss: 0.8552 - val_accuracy: 0.7086\n",
      "Epoch 7/10\n",
      "1875/1875 [==============================] - 19s 10ms/step - loss: 0.3893 - accuracy: 0.8814 - val_loss: 0.8774 - val_accuracy: 0.7126\n",
      "Epoch 8/10\n",
      "1875/1875 [==============================] - 24s 13ms/step - loss: 0.3578 - accuracy: 0.8928 - val_loss: 0.9001 - val_accuracy: 0.7093\n",
      "Epoch 9/10\n",
      "1875/1875 [==============================] - 24s 13ms/step - loss: 0.3313 - accuracy: 0.9022 - val_loss: 0.9235 - val_accuracy: 0.7109\n",
      "Epoch 10/10\n",
      "1875/1875 [==============================] - 24s 13ms/step - loss: 0.3083 - accuracy: 0.9108 - val_loss: 0.9673 - val_accuracy: 0.7066\n"
     ]
    },
    {
     "data": {
      "text/plain": [
       "<tensorflow.python.keras.callbacks.History at 0x7f66f80b4790>"
      ]
     },
     "execution_count": 14,
     "metadata": {},
     "output_type": "execute_result"
    }
   ],
   "source": [
    "learner_log.fit(learner_log.lr_estimate()[1], 10)"
   ]
  },
  {
   "cell_type": "markdown",
   "metadata": {},
   "source": [
    "## Applying the nbsvm model: (mod_19)"
   ]
  },
  {
   "cell_type": "code",
   "execution_count": 15,
   "metadata": {},
   "outputs": [
    {
     "name": "stdout",
     "output_type": "stream",
     "text": [
      "Is Multi-Label? False\n",
      "compiling word ID features...\n",
      "maxlen is 512\n",
      "building document-term matrix... this may take a few moments...\n",
      "rows: 1-10000\n",
      "rows: 10001-20000\n",
      "rows: 20001-30000\n",
      "rows: 30001-40000\n",
      "rows: 40001-50000\n",
      "rows: 50001-60000\n",
      "computing log-count ratios...\n",
      "done.\n"
     ]
    }
   ],
   "source": [
    "nbsvm = text.text_classifier(\"nbsvm\", trn, preproc=preproc)"
   ]
  },
  {
   "cell_type": "code",
   "execution_count": 16,
   "metadata": {},
   "outputs": [],
   "source": [
    "learner_nbsvm = ktrain.get_learner(nbsvm, train_data=trn, val_data=val)"
   ]
  },
  {
   "cell_type": "code",
   "execution_count": 17,
   "metadata": {},
   "outputs": [
    {
     "name": "stdout",
     "output_type": "stream",
     "text": [
      "simulating training for different learning rates... this may take a few moments...\n",
      "Epoch 1/10\n",
      "1875/1875 [==============================] - 14s 7ms/step - loss: 1.6234 - accuracy: 0.2538\n",
      "Epoch 2/10\n",
      "1875/1875 [==============================] - 23s 12ms/step - loss: 1.6055 - accuracy: 0.2797\n",
      "Epoch 3/10\n",
      "1875/1875 [==============================] - 23s 12ms/step - loss: 1.5208 - accuracy: 0.3714\n",
      "Epoch 4/10\n",
      "1875/1875 [==============================] - 23s 13ms/step - loss: 1.3068 - accuracy: 0.5206\n",
      "Epoch 5/10\n",
      "1875/1875 [==============================] - 23s 12ms/step - loss: 1.0285 - accuracy: 0.6416\n",
      "Epoch 6/10\n",
      "1875/1875 [==============================] - 23s 12ms/step - loss: 0.8222 - accuracy: 0.6994\n",
      "Epoch 7/10\n",
      "1875/1875 [==============================] - 23s 12ms/step - loss: 1.0721 - accuracy: 0.6738\n",
      "Epoch 8/10\n",
      "1875/1875 [==============================] - 22s 12ms/step - loss: 3.9741 - accuracy: 0.6312\n",
      "\n",
      "\n",
      "done.\n",
      "Visually inspect loss plot and select learning rate associated with falling loss\n"
     ]
    },
    {
     "data": {
      "image/png": "[encoded data removed]",
      "text/plain": [
       "<Figure size 432x288 with 1 Axes>"
      ]
     },
     "metadata": {
      "needs_background": "light"
     },
     "output_type": "display_data"
    }
   ],
   "source": [
    "learner_nbsvm.lr_find(show_plot=True, max_epochs=10)"
   ]
  },
  {
   "cell_type": "code",
   "execution_count": 18,
   "metadata": {},
   "outputs": [
    {
     "data": {
      "text/plain": [
       "(0.00096904906, 0.0007664425298571587)"
      ]
     },
     "execution_count": 18,
     "metadata": {},
     "output_type": "execute_result"
    }
   ],
   "source": [
    "learner_nbsvm.lr_estimate()"
   ]
  },
  {
   "cell_type": "code",
   "execution_count": 19,
   "metadata": {},
   "outputs": [
    {
     "name": "stdout",
     "output_type": "stream",
     "text": [
      "Epoch 1/10\n",
      "1875/1875 [==============================] - 24s 13ms/step - loss: 0.9979 - accuracy: 0.6411 - val_loss: 0.9302 - val_accuracy: 0.6557\n",
      "Epoch 2/10\n",
      "1875/1875 [==============================] - 24s 13ms/step - loss: 0.7968 - accuracy: 0.7145 - val_loss: 0.8925 - val_accuracy: 0.6660\n",
      "Epoch 3/10\n",
      "1875/1875 [==============================] - 24s 13ms/step - loss: 0.7306 - accuracy: 0.7349 - val_loss: 0.8877 - val_accuracy: 0.6652\n",
      "Epoch 4/10\n",
      "1875/1875 [==============================] - 24s 13ms/step - loss: 0.6914 - accuracy: 0.7468 - val_loss: 0.8892 - val_accuracy: 0.6669\n",
      "Epoch 5/10\n",
      "1875/1875 [==============================] - 24s 13ms/step - loss: 0.6648 - accuracy: 0.7561 - val_loss: 0.8979 - val_accuracy: 0.6659\n",
      "Epoch 6/10\n",
      "1875/1875 [==============================] - 15s 8ms/step - loss: 0.6447 - accuracy: 0.7629 - val_loss: 0.9073 - val_accuracy: 0.6656\n",
      "Epoch 7/10\n",
      "1875/1875 [==============================] - 24s 13ms/step - loss: 0.6290 - accuracy: 0.7683 - val_loss: 0.9191 - val_accuracy: 0.6613\n",
      "Epoch 8/10\n",
      "1875/1875 [==============================] - 24s 13ms/step - loss: 0.6163 - accuracy: 0.7721 - val_loss: 0.9307 - val_accuracy: 0.6621\n",
      "Epoch 9/10\n",
      "1875/1875 [==============================] - 24s 13ms/step - loss: 0.6059 - accuracy: 0.7755 - val_loss: 0.9419 - val_accuracy: 0.6615\n",
      "Epoch 10/10\n",
      "1875/1875 [==============================] - 24s 13ms/step - loss: 0.5972 - accuracy: 0.7778 - val_loss: 0.9530 - val_accuracy: 0.6611\n"
     ]
    },
    {
     "data": {
      "text/plain": [
       "<tensorflow.python.keras.callbacks.History at 0x7f667438fd60>"
      ]
     },
     "execution_count": 19,
     "metadata": {},
     "output_type": "execute_result"
    }
   ],
   "source": [
    "learner_nbsvm.fit(learner_nbsvm.lr_estimate()[1], 10)"
   ]
  },
  {
   "cell_type": "markdown",
   "metadata": {},
   "source": [
    "## Applying the bigru model: (mod_20)"
   ]
  },
  {
   "cell_type": "code",
   "execution_count": 20,
   "metadata": {},
   "outputs": [
    {
     "name": "stdout",
     "output_type": "stream",
     "text": [
      "Is Multi-Label? False\n",
      "compiling word ID features...\n",
      "maxlen is 512\n",
      "word vectors will be loaded from: https://dl.fbaipublicfiles.com/fasttext/vectors-crawl/cc.en.300.vec.gz\n",
      "processing pretrained word vectors...\n",
      "loading pretrained word vectors...this may take a few moments...\n"
     ]
    },
    {
     "data": {
      "text/html": [],
      "text/plain": [
       "<IPython.core.display.HTML object>"
      ]
     },
     "metadata": {},
     "output_type": "display_data"
    },
    {
     "name": "stdout",
     "output_type": "stream",
     "text": [
      "done.\n"
     ]
    }
   ],
   "source": [
    "bigru = text.text_classifier(\"bigru\", trn, preproc=preproc)"
   ]
  },
  {
   "cell_type": "code",
   "execution_count": 21,
   "metadata": {},
   "outputs": [],
   "source": [
    "learner_bigru = ktrain.get_learner(bigru, train_data=trn, val_data=val)"
   ]
  },
  {
   "cell_type": "code",
   "execution_count": 22,
   "metadata": {},
   "outputs": [
    {
     "name": "stdout",
     "output_type": "stream",
     "text": [
      "simulating training for different learning rates... this may take a few moments...\n",
      "Epoch 1/10\n",
      "1875/1875 [==============================] - 122s 65ms/step - loss: 1.6235 - accuracy: 0.2044\n",
      "Epoch 2/10\n",
      "1875/1875 [==============================] - 120s 64ms/step - loss: 1.6156 - accuracy: 0.2065\n",
      "Epoch 3/10\n",
      "1875/1875 [==============================] - 122s 65ms/step - loss: 1.5928 - accuracy: 0.2785\n",
      "Epoch 4/10\n",
      "1875/1875 [==============================] - 122s 65ms/step - loss: 1.4374 - accuracy: 0.4360\n",
      "Epoch 5/10\n",
      "1875/1875 [==============================] - 122s 65ms/step - loss: 0.9646 - accuracy: 0.6376\n",
      "Epoch 6/10\n",
      "1875/1875 [==============================] - 121s 64ms/step - loss: 0.6935 - accuracy: 0.7461\n",
      "Epoch 7/10\n",
      "1875/1875 [==============================] - 122s 65ms/step - loss: nan - accuracy: 0.4852\n",
      "Epoch 8/10\n",
      "1875/1875 [==============================] - 122s 65ms/step - loss: nan - accuracy: 0.2000\n",
      "Epoch 9/10\n",
      "1875/1875 [==============================] - 104s 55ms/step - loss: nan - accuracy: 0.2000\n",
      "Epoch 10/10\n",
      "1875/1875 [==============================] - 76s 41ms/step - loss: nan - accuracy: 0.2000\n",
      "\n",
      "\n",
      "done.\n",
      "Visually inspect loss plot and select learning rate associated with falling loss\n"
     ]
    },
    {
     "data": {
      "image/png": "[encoded data removed]",
      "text/plain": [
       "<Figure size 432x288 with 1 Axes>"
      ]
     },
     "metadata": {
      "needs_background": "light"
     },
     "output_type": "display_data"
    }
   ],
   "source": [
    "learner_bigru.lr_find(show_plot=True, max_epochs=10)"
   ]
  },
  {
   "cell_type": "code",
   "execution_count": 23,
   "metadata": {},
   "outputs": [
    {
     "data": {
      "text/plain": [
       "(0.00015373503, 0.0022407829761505126)"
      ]
     },
     "execution_count": 23,
     "metadata": {},
     "output_type": "execute_result"
    }
   ],
   "source": [
    "learner_bigru.lr_estimate()"
   ]
  },
  {
   "cell_type": "code",
   "execution_count": 24,
   "metadata": {},
   "outputs": [
    {
     "name": "stdout",
     "output_type": "stream",
     "text": [
      "Epoch 1/7\n",
      "1875/1875 [==============================] - 84s 45ms/step - loss: 0.8292 - accuracy: 0.6873 - val_loss: 0.6380 - val_accuracy: 0.7686\n",
      "Epoch 2/7\n",
      "1875/1875 [==============================] - 83s 44ms/step - loss: 0.4537 - accuracy: 0.8425 - val_loss: 0.5953 - val_accuracy: 0.7965\n",
      "Epoch 3/7\n",
      "1875/1875 [==============================] - 84s 45ms/step - loss: 0.2370 - accuracy: 0.9211 - val_loss: 0.6777 - val_accuracy: 0.7978\n",
      "Epoch 4/7\n",
      "1875/1875 [==============================] - 83s 44ms/step - loss: 0.1165 - accuracy: 0.9624 - val_loss: 0.9120 - val_accuracy: 0.7811\n",
      "Epoch 5/7\n",
      "1875/1875 [==============================] - 84s 45ms/step - loss: 0.0783 - accuracy: 0.9755 - val_loss: 0.9230 - val_accuracy: 0.7902\n",
      "Epoch 6/7\n",
      "1875/1875 [==============================] - 86s 46ms/step - loss: 0.0660 - accuracy: 0.9790 - val_loss: 1.0541 - val_accuracy: 0.7863\n",
      "Epoch 7/7\n",
      "1875/1875 [==============================] - 87s 47ms/step - loss: 0.0617 - accuracy: 0.9798 - val_loss: 1.1387 - val_accuracy: 0.7806\n"
     ]
    },
    {
     "data": {
      "text/plain": [
       "<tensorflow.python.keras.callbacks.History at 0x7f66442874c0>"
      ]
     },
     "execution_count": 24,
     "metadata": {},
     "output_type": "execute_result"
    }
   ],
   "source": [
    "learner_bigru.fit(learner_bigru.lr_estimate()[1], 7)"
   ]
  },
  {
   "cell_type": "markdown",
   "metadata": {},
   "source": [
    "## Applying the standard gru: (mod_21)"
   ]
  },
  {
   "cell_type": "code",
   "execution_count": 25,
   "metadata": {},
   "outputs": [
    {
     "name": "stdout",
     "output_type": "stream",
     "text": [
      "Is Multi-Label? False\n",
      "compiling word ID features...\n",
      "maxlen is 512\n",
      "done.\n"
     ]
    }
   ],
   "source": [
    "stgru = text.text_classifier(\"standard_gru\", trn, preproc=preproc)"
   ]
  },
  {
   "cell_type": "code",
   "execution_count": 26,
   "metadata": {},
   "outputs": [],
   "source": [
    "learner_stgru = ktrain.get_learner(stgru, train_data=trn, val_data=val)"
   ]
  },
  {
   "cell_type": "code",
   "execution_count": 27,
   "metadata": {},
   "outputs": [
    {
     "name": "stdout",
     "output_type": "stream",
     "text": [
      "simulating training for different learning rates... this may take a few moments...\n",
      "Epoch 1/10\n",
      "1875/1875 [==============================] - 93s 50ms/step - loss: 1.6114 - accuracy: 0.1995\n",
      "Epoch 2/10\n",
      "1875/1875 [==============================] - 94s 50ms/step - loss: 1.6112 - accuracy: 0.2010\n",
      "Epoch 3/10\n",
      "1875/1875 [==============================] - 95s 50ms/step - loss: 1.6088 - accuracy: 0.2125\n",
      "Epoch 4/10\n",
      "1875/1875 [==============================] - 94s 50ms/step - loss: 1.5638 - accuracy: 0.2695\n",
      "Epoch 5/10\n",
      "1875/1875 [==============================] - 94s 50ms/step - loss: 1.3344 - accuracy: 0.4351\n",
      "Epoch 6/10\n",
      "1875/1875 [==============================] - 94s 50ms/step - loss: 1.2330 - accuracy: 0.5057\n",
      "Epoch 7/10\n",
      "1875/1875 [==============================] - 95s 51ms/step - loss: nan - accuracy: 0.2002\n",
      "Epoch 8/10\n",
      "1875/1875 [==============================] - 94s 50ms/step - loss: nan - accuracy: 0.2000\n",
      "Epoch 9/10\n",
      "1875/1875 [==============================] - 94s 50ms/step - loss: nan - accuracy: 0.2000\n",
      "Epoch 10/10\n",
      "1875/1875 [==============================] - 94s 50ms/step - loss: nan - accuracy: 0.2000\n",
      "\n",
      "\n",
      "done.\n",
      "Visually inspect loss plot and select learning rate associated with falling loss\n"
     ]
    },
    {
     "data": {
      "image/png": "[encoded data removed]",
      "text/plain": [
       "<Figure size 432x288 with 1 Axes>"
      ]
     },
     "metadata": {
      "needs_background": "light"
     },
     "output_type": "display_data"
    }
   ],
   "source": [
    "learner_stgru.lr_find(show_plot=True, max_epochs=10)"
   ]
  },
  {
   "cell_type": "code",
   "execution_count": 28,
   "metadata": {},
   "outputs": [
    {
     "data": {
      "text/plain": [
       "(0.000970955, 0.0006403238512575626)"
      ]
     },
     "execution_count": 28,
     "metadata": {},
     "output_type": "execute_result"
    }
   ],
   "source": [
    "learner_stgru.lr_estimate()"
   ]
  },
  {
   "cell_type": "code",
   "execution_count": 29,
   "metadata": {},
   "outputs": [
    {
     "name": "stdout",
     "output_type": "stream",
     "text": [
      "Epoch 1/7\n",
      "1875/1875 [==============================] - 102s 54ms/step - loss: 1.3736 - accuracy: 0.4017 - val_loss: 1.1747 - val_accuracy: 0.5362\n",
      "Epoch 2/7\n",
      "1875/1875 [==============================] - 102s 54ms/step - loss: 0.9958 - accuracy: 0.6101 - val_loss: 0.9259 - val_accuracy: 0.6566\n",
      "Epoch 3/7\n",
      "1875/1875 [==============================] - 101s 54ms/step - loss: 0.7716 - accuracy: 0.7146 - val_loss: 0.8067 - val_accuracy: 0.6997\n",
      "Epoch 4/7\n",
      "1875/1875 [==============================] - 101s 54ms/step - loss: 0.6663 - accuracy: 0.7580 - val_loss: 0.7334 - val_accuracy: 0.7307\n",
      "Epoch 5/7\n",
      "1875/1875 [==============================] - 101s 54ms/step - loss: 0.6032 - accuracy: 0.7815 - val_loss: 0.6983 - val_accuracy: 0.7487\n",
      "Epoch 6/7\n",
      "1875/1875 [==============================] - 102s 54ms/step - loss: 0.5552 - accuracy: 0.8000 - val_loss: 0.6654 - val_accuracy: 0.7624\n",
      "Epoch 7/7\n",
      "1875/1875 [==============================] - 101s 54ms/step - loss: 0.5174 - accuracy: 0.8145 - val_loss: 0.6982 - val_accuracy: 0.7529\n"
     ]
    },
    {
     "data": {
      "text/plain": [
       "<tensorflow.python.keras.callbacks.History at 0x7f65f8777550>"
      ]
     },
     "execution_count": 29,
     "metadata": {},
     "output_type": "execute_result"
    }
   ],
   "source": [
    "learner_stgru.fit(learner_stgru.lr_estimate()[1], 7)"
   ]
  },
  {
   "cell_type": "code",
   "execution_count": null,
   "metadata": {},
   "outputs": [],
   "source": []
  }
 ],
 "metadata": {
  "kernelspec": {
   "display_name": "Python [conda env:.conda-oezkan_thesis]",
   "language": "python",
   "name": "conda-env-.conda-oezkan_thesis-py"
  },
  "language_info": {
   "codemirror_mode": {
    "name": "ipython",
    "version": 3
   },
   "file_extension": ".py",
   "mimetype": "text/x-python",
   "name": "python",
   "nbconvert_exporter": "python",
   "pygments_lexer": "ipython3",
   "version": "3.8.3"
  }
 },
 "nbformat": 4,
 "nbformat_minor": 2
}
