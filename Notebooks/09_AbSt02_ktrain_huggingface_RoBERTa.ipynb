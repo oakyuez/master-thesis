{
 "cells": [
  {
   "cell_type": "code",
   "execution_count": 1,
   "metadata": {},
   "outputs": [],
   "source": [
    "import ktrain\n",
    "from ktrain import text\n",
    "import pandas as pd\n",
    "import numpy as np\n",
    "from sklearn.utils import shuffle, resample"
   ]
  },
  {
   "cell_type": "markdown",
   "metadata": {},
   "source": [
    "## Load the data"
   ]
  },
  {
   "cell_type": "code",
   "execution_count": 2,
   "metadata": {},
   "outputs": [],
   "source": [
    "news = pd.read_csv(\"/home/jupyter-ozkan_ma/data/CSV/news_preprocessed_with_addtionalLabel.csv\", index_col=0)"
   ]
  },
  {
   "cell_type": "code",
   "execution_count": 3,
   "metadata": {},
   "outputs": [],
   "source": [
    "# Get the same train and test data\n",
    "def split_df_in_train_test(df):\n",
    "    df = df.reset_index()\n",
    "    split_point = int(np.round(df.shape[0]) * 0.8)\n",
    "    df_train = df.loc[:split_point-1,:]\n",
    "    df_test = df.loc[split_point:,:]\n",
    "    return df_train, df_test"
   ]
  },
  {
   "cell_type": "code",
   "execution_count": 4,
   "metadata": {},
   "outputs": [],
   "source": [
    "left_AbSt_02 = resample(shuffle(news[(news[\"Label_AbStudy_02\"]==\"Left\") & (news[\"Length\"]<512)], random_state=42), \\\n",
    "         random_state=42, n_samples=25000)\n",
    "center_AbSt_02 = resample(shuffle(news[(news[\"Label_AbStudy_02\"]==\"Center\") & (news[\"Length\"]<512)], random_state=42), \\\n",
    "         random_state=42, n_samples=25000)\n",
    "right_AbSt_02 = resample(shuffle(news[(news[\"Label_AbStudy_02\"]==\"Right\") & (news[\"Length\"]<512)], random_state=42), \\\n",
    "         random_state=42, n_samples=25000)"
   ]
  },
  {
   "cell_type": "code",
   "execution_count": 5,
   "metadata": {},
   "outputs": [],
   "source": [
    "train = pd.concat([split_df_in_train_test(left_AbSt_02)[0], \\\n",
    "    split_df_in_train_test(center_AbSt_02)[0], \\\n",
    "    split_df_in_train_test(right_AbSt_02)[0]])"
   ]
  },
  {
   "cell_type": "code",
   "execution_count": 6,
   "metadata": {},
   "outputs": [],
   "source": [
    "test = pd.concat([split_df_in_train_test(left_AbSt_02)[1], \\\n",
    "    split_df_in_train_test(center_AbSt_02)[1], \\\n",
    "    split_df_in_train_test(right_AbSt_02)[1]])"
   ]
  },
  {
   "cell_type": "code",
   "execution_count": 7,
   "metadata": {},
   "outputs": [],
   "source": [
    "x_train = train[\"content\"].to_list()\n",
    "y_train = train[\"Label_AbStudy_02\"].to_list()\n",
    "x_test = test[\"content\"].to_list()\n",
    "y_test = test[\"Label_AbStudy_02\"].to_list()"
   ]
  },
  {
   "cell_type": "code",
   "execution_count": 8,
   "metadata": {},
   "outputs": [],
   "source": [
    "class_names = list(train[\"Label_AbStudy_02\"].unique())"
   ]
  },
  {
   "cell_type": "markdown",
   "metadata": {},
   "source": [
    "## Build the model"
   ]
  },
  {
   "cell_type": "code",
   "execution_count": 13,
   "metadata": {},
   "outputs": [],
   "source": [
    "model_name = \"roberta-base\""
   ]
  },
  {
   "cell_type": "code",
   "execution_count": 14,
   "metadata": {},
   "outputs": [],
   "source": [
    "t = text.Transformer(model_name, maxlen=512, class_names=class_names)"
   ]
  },
  {
   "cell_type": "code",
   "execution_count": 15,
   "metadata": {},
   "outputs": [
    {
     "name": "stdout",
     "output_type": "stream",
     "text": [
      "preprocessing train...\n",
      "language: en\n",
      "train sequence lengths:\n",
      "\tmean : 252\n",
      "\t95percentile : 481\n",
      "\t99percentile : 506\n"
     ]
    },
    {
     "data": {
      "text/html": [],
      "text/plain": [
       "<IPython.core.display.HTML object>"
      ]
     },
     "metadata": {},
     "output_type": "display_data"
    },
    {
     "name": "stdout",
     "output_type": "stream",
     "text": [
      "Is Multi-Label? False\n",
      "preprocessing test...\n",
      "language: en\n",
      "test sequence lengths:\n",
      "\tmean : 254\n",
      "\t95percentile : 481\n",
      "\t99percentile : 505\n"
     ]
    },
    {
     "data": {
      "text/html": [],
      "text/plain": [
       "<IPython.core.display.HTML object>"
      ]
     },
     "metadata": {},
     "output_type": "display_data"
    }
   ],
   "source": [
    "trn = t.preprocess_train(x_train, y_train)\n",
    "val = t.preprocess_test(x_test, y_test)"
   ]
  },
  {
   "cell_type": "code",
   "execution_count": 16,
   "metadata": {},
   "outputs": [],
   "source": [
    "model = t.get_classifier()\n",
    "learner = ktrain.get_learner(model, train_data=trn, val_data=val, batch_size=6)"
   ]
  },
  {
   "cell_type": "code",
   "execution_count": 18,
   "metadata": {},
   "outputs": [
    {
     "name": "stdout",
     "output_type": "stream",
     "text": [
      "simulating training for different learning rates... this may take a few moments...\n",
      "10000/10000 [==============================] - 3543s 354ms/step - loss: 9.7925 - accuracy: 0.4534\n",
      "\n",
      "\n",
      "done.\n",
      "Visually inspect loss plot and select learning rate associated with falling loss\n"
     ]
    },
    {
     "data": {
      "image/png": "[encoded data removed]",
      "text/plain": [
       "<Figure size 432x288 with 1 Axes>"
      ]
     },
     "metadata": {
      "needs_background": "light"
     },
     "output_type": "display_data"
    }
   ],
   "source": [
    "learner.lr_find(show_plot=True, max_epochs=1)"
   ]
  },
  {
   "cell_type": "code",
   "execution_count": 19,
   "metadata": {},
   "outputs": [
    {
     "name": "stdout",
     "output_type": "stream",
     "text": [
      "1.8603754870127887e-05\n"
     ]
    }
   ],
   "source": [
    "optimal_lr = learner.lr_estimate()[1]\n",
    "print(optimal_lr)"
   ]
  },
  {
   "cell_type": "code",
   "execution_count": 20,
   "metadata": {},
   "outputs": [
    {
     "name": "stdout",
     "output_type": "stream",
     "text": [
      "10000/10000 [==============================] - 3803s 380ms/step - loss: 0.3523 - accuracy: 0.8644 - val_loss: 0.2613 - val_accuracy: 0.9076\n"
     ]
    },
    {
     "data": {
      "text/plain": [
       "<tensorflow.python.keras.callbacks.History at 0x7f2a00727340>"
      ]
     },
     "execution_count": 20,
     "metadata": {},
     "output_type": "execute_result"
    }
   ],
   "source": [
    "learner.fit(optimal_lr, 1)"
   ]
  },
  {
   "cell_type": "code",
   "execution_count": 21,
   "metadata": {},
   "outputs": [
    {
     "name": "stdout",
     "output_type": "stream",
     "text": [
      "              precision    recall  f1-score   support\n",
      "\n",
      "        Left       0.89      0.93      0.91      5000\n",
      "      Center       0.89      0.92      0.91      5000\n",
      "       Right       0.94      0.87      0.91      5000\n",
      "\n",
      "    accuracy                           0.91     15000\n",
      "   macro avg       0.91      0.91      0.91     15000\n",
      "weighted avg       0.91      0.91      0.91     15000\n",
      "\n"
     ]
    },
    {
     "data": {
      "text/plain": [
       "array([[4654,  204,  142],\n",
       "       [ 270, 4590,  140],\n",
       "       [ 281,  349, 4370]])"
      ]
     },
     "execution_count": 21,
     "metadata": {},
     "output_type": "execute_result"
    }
   ],
   "source": [
    "learner.validate(class_names=class_names)"
   ]
  },
  {
   "cell_type": "code",
   "execution_count": null,
   "metadata": {},
   "outputs": [],
   "source": []
  }
 ],
 "metadata": {
  "kernelspec": {
   "display_name": "Python [conda env:.conda-oezkan_thesis]",
   "language": "python",
   "name": "conda-env-.conda-oezkan_thesis-py"
  },
  "language_info": {
   "codemirror_mode": {
    "name": "ipython",
    "version": 3
   },
   "file_extension": ".py",
   "mimetype": "text/x-python",
   "name": "python",
   "nbconvert_exporter": "python",
   "pygments_lexer": "ipython3",
   "version": "3.8.3"
  }
 },
 "nbformat": 4,
 "nbformat_minor": 2
}
