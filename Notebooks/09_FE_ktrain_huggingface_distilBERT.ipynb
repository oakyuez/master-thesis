{
 "cells": [
  {
   "cell_type": "code",
   "execution_count": 1,
   "metadata": {},
   "outputs": [],
   "source": [
    "import ktrain\n",
    "from ktrain import text\n",
    "import pandas as pd\n",
    "import numpy as np\n",
    "from sklearn.utils import shuffle, resample"
   ]
  },
  {
   "cell_type": "markdown",
   "metadata": {},
   "source": [
    "## Load the data"
   ]
  },
  {
   "cell_type": "code",
   "execution_count": 2,
   "metadata": {},
   "outputs": [],
   "source": [
    "news = pd.read_csv(\"/home/jupyter-ozkan_ma/data/CSV/news_preprocessed_with_addtionalLabel.csv\", index_col=0)"
   ]
  },
  {
   "cell_type": "code",
   "execution_count": 3,
   "metadata": {},
   "outputs": [],
   "source": [
    "# Get the same train and test data\n",
    "def split_df_in_train_test(df):\n",
    "    df = df.reset_index()\n",
    "    split_point = int(np.round(df.shape[0]) * 0.8)\n",
    "    df_train = df.loc[:split_point-1,:]\n",
    "    df_test = df.loc[split_point:,:]\n",
    "    return df_train, df_test"
   ]
  },
  {
   "cell_type": "code",
   "execution_count": 4,
   "metadata": {},
   "outputs": [],
   "source": [
    "left_FE = resample(shuffle(news[(news[\"Label\"]==\"Left\") & (news[\"Length\"]<512)], random_state=42), \\\n",
    "         random_state=42, n_samples=15000)\n",
    "leanLeft_FE = resample(shuffle(news[(news[\"Label\"]==\"Lean Left\") & (news[\"Length\"]<512)], random_state=42), \\\n",
    "         random_state=42, n_samples=15000)\n",
    "center_FE = resample(shuffle(news[(news[\"Label\"]==\"Center\") & (news[\"Length\"]<512)], random_state=42), \\\n",
    "         random_state=42, n_samples=15000)\n",
    "leanRight_FE = resample(shuffle(news[(news[\"Label\"]==\"Lean Right\") & (news[\"Length\"]<512)], random_state=42), \\\n",
    "         random_state=42, n_samples=15000)\n",
    "right_FE = resample(shuffle(news[(news[\"Label\"]==\"Right\") & (news[\"Length\"]<512)], random_state=42), \\\n",
    "         random_state=42, n_samples=15000)"
   ]
  },
  {
   "cell_type": "code",
   "execution_count": 5,
   "metadata": {},
   "outputs": [],
   "source": [
    "train = pd.concat([split_df_in_train_test(left_FE)[0], \\\n",
    "    split_df_in_train_test(leanLeft_FE)[0], \\\n",
    "    split_df_in_train_test(center_FE)[0], \\\n",
    "    split_df_in_train_test(leanRight_FE)[0], \\\n",
    "    split_df_in_train_test(right_FE)[0]])"
   ]
  },
  {
   "cell_type": "code",
   "execution_count": 6,
   "metadata": {},
   "outputs": [],
   "source": [
    "test =  pd.concat([split_df_in_train_test(left_FE)[1], \\\n",
    "    split_df_in_train_test(leanLeft_FE)[1], \\\n",
    "    split_df_in_train_test(center_FE)[1], \\\n",
    "    split_df_in_train_test(leanRight_FE)[1], \\\n",
    "    split_df_in_train_test(right_FE)[1]])"
   ]
  },
  {
   "cell_type": "code",
   "execution_count": 7,
   "metadata": {},
   "outputs": [],
   "source": [
    "x_train = train[\"content\"].to_list()\n",
    "y_train = train[\"Label\"].to_list()\n",
    "x_test = test[\"content\"].to_list()\n",
    "y_test = test[\"Label\"].to_list()"
   ]
  },
  {
   "cell_type": "code",
   "execution_count": 8,
   "metadata": {},
   "outputs": [],
   "source": [
    "class_names = list(train[\"Label\"].unique())"
   ]
  },
  {
   "cell_type": "markdown",
   "metadata": {},
   "source": [
    "## Build the model"
   ]
  },
  {
   "cell_type": "code",
   "execution_count": 9,
   "metadata": {},
   "outputs": [],
   "source": [
    "model_name = \"distilbert-base-cased\""
   ]
  },
  {
   "cell_type": "code",
   "execution_count": 10,
   "metadata": {},
   "outputs": [],
   "source": [
    "t = text.Transformer(model_name, maxlen=512, class_names=class_names)"
   ]
  },
  {
   "cell_type": "code",
   "execution_count": 11,
   "metadata": {},
   "outputs": [
    {
     "name": "stdout",
     "output_type": "stream",
     "text": [
      "preprocessing train...\n",
      "language: en\n",
      "train sequence lengths:\n",
      "\tmean : 252\n",
      "\t95percentile : 481\n",
      "\t99percentile : 506\n"
     ]
    },
    {
     "name": "stderr",
     "output_type": "stream",
     "text": [
      "/home/jupyter-ozkan_ma/.conda/envs/oezkan_thesis/lib/python3.8/site-packages/ktrain/utils.py:573: UserWarning: class_names argument was ignored, as they were extracted from string labels in dataset\n",
      "  if self.get_classes(): warnings.warn('class_names argument was ignored, as they were extracted from string labels in dataset')\n"
     ]
    },
    {
     "data": {
      "text/html": [],
      "text/plain": [
       "<IPython.core.display.HTML object>"
      ]
     },
     "metadata": {},
     "output_type": "display_data"
    },
    {
     "name": "stdout",
     "output_type": "stream",
     "text": [
      "Is Multi-Label? False\n",
      "preprocessing test...\n",
      "language: en\n",
      "test sequence lengths:\n",
      "\tmean : 256\n",
      "\t95percentile : 484\n",
      "\t99percentile : 506\n"
     ]
    },
    {
     "data": {
      "text/html": [],
      "text/plain": [
       "<IPython.core.display.HTML object>"
      ]
     },
     "metadata": {},
     "output_type": "display_data"
    }
   ],
   "source": [
    "trn = t.preprocess_train(x_train, y_train)\n",
    "val = t.preprocess_test(x_test, y_test)"
   ]
  },
  {
   "cell_type": "code",
   "execution_count": 12,
   "metadata": {},
   "outputs": [],
   "source": [
    "model = t.get_classifier()\n",
    "learner = ktrain.get_learner(model, train_data=trn, val_data=val, batch_size=6)"
   ]
  },
  {
   "cell_type": "code",
   "execution_count": 13,
   "metadata": {},
   "outputs": [],
   "source": [
    "learner.freeze()"
   ]
  },
  {
   "cell_type": "code",
   "execution_count": 14,
   "metadata": {},
   "outputs": [
    {
     "name": "stdout",
     "output_type": "stream",
     "text": [
      "simulating training for different learning rates... this may take a few moments...\n",
      "10000/10000 [==============================] - 589s 59ms/step - loss: 13.6819 - accuracy: 0.2693\n",
      "\n",
      "\n",
      "done.\n",
      "Visually inspect loss plot and select learning rate associated with falling loss\n"
     ]
    },
    {
     "data": {
      "image/png": "[encoded data removed]",
      "text/plain": [
       "<Figure size 432x288 with 1 Axes>"
      ]
     },
     "metadata": {
      "needs_background": "light"
     },
     "output_type": "display_data"
    }
   ],
   "source": [
    "learner.lr_find(show_plot=True, max_epochs=1)"
   ]
  },
  {
   "cell_type": "code",
   "execution_count": 15,
   "metadata": {},
   "outputs": [],
   "source": [
    "optimal_lr = learner.lr_estimate()[1]"
   ]
  },
  {
   "cell_type": "code",
   "execution_count": 16,
   "metadata": {},
   "outputs": [
    {
     "name": "stdout",
     "output_type": "stream",
     "text": [
      "Epoch 1/5\n",
      "10000/10000 [==============================] - 1540s 154ms/step - loss: 1.6113 - accuracy: 0.2003 - val_loss: 1.6095 - val_accuracy: 0.2000\n",
      "Epoch 2/5\n",
      "10000/10000 [==============================] - 1538s 154ms/step - loss: 1.6097 - accuracy: 0.1981 - val_loss: 1.6097 - val_accuracy: 0.2000\n",
      "Epoch 3/5\n",
      "10000/10000 [==============================] - 1538s 154ms/step - loss: 1.6097 - accuracy: 0.1970 - val_loss: 1.6095 - val_accuracy: 0.2000\n",
      "Epoch 4/5\n",
      "10000/10000 [==============================] - 1538s 154ms/step - loss: 1.6097 - accuracy: 0.2011 - val_loss: 1.6097 - val_accuracy: 0.2000\n",
      "Epoch 5/5\n",
      "10000/10000 [==============================] - 1539s 154ms/step - loss: 1.6098 - accuracy: 0.1961 - val_loss: 1.6095 - val_accuracy: 0.2000\n"
     ]
    },
    {
     "data": {
      "text/plain": [
       "<tensorflow.python.keras.callbacks.History at 0x7f027023d340>"
      ]
     },
     "execution_count": 16,
     "metadata": {},
     "output_type": "execute_result"
    }
   ],
   "source": [
    "learner.fit(optimal_lr, 5)"
   ]
  },
  {
   "cell_type": "code",
   "execution_count": 17,
   "metadata": {},
   "outputs": [
    {
     "name": "stdout",
     "output_type": "stream",
     "text": [
      "              precision    recall  f1-score   support\n",
      "\n",
      "        Left       0.00      0.00      0.00      3000\n",
      "   Lean Left       0.20      1.00      0.33      3000\n",
      "      Center       0.00      0.00      0.00      3000\n",
      "  Lean Right       0.00      0.00      0.00      3000\n",
      "       Right       0.00      0.00      0.00      3000\n",
      "\n",
      "    accuracy                           0.20     15000\n",
      "   macro avg       0.04      0.20      0.07     15000\n",
      "weighted avg       0.04      0.20      0.07     15000\n",
      "\n"
     ]
    },
    {
     "name": "stderr",
     "output_type": "stream",
     "text": [
      "/home/jupyter-ozkan_ma/.conda/envs/oezkan_thesis/lib/python3.8/site-packages/sklearn/metrics/classification.py:1436: UndefinedMetricWarning: Precision and F-score are ill-defined and being set to 0.0 in labels with no predicted samples.\n",
      "  precision = _prf_divide(tp_sum, pred_sum,\n"
     ]
    },
    {
     "data": {
      "text/plain": [
       "array([[   0, 3000,    0,    0,    0],\n",
       "       [   0, 3000,    0,    0,    0],\n",
       "       [   0, 3000,    0,    0,    0],\n",
       "       [   0, 3000,    0,    0,    0],\n",
       "       [   0, 3000,    0,    0,    0]])"
      ]
     },
     "execution_count": 17,
     "metadata": {},
     "output_type": "execute_result"
    }
   ],
   "source": [
    "learner.validate(class_names=class_names)"
   ]
  },
  {
   "cell_type": "code",
   "execution_count": null,
   "metadata": {},
   "outputs": [],
   "source": []
  }
 ],
 "metadata": {
  "kernelspec": {
   "display_name": "Python [conda env:.conda-oezkan_thesis]",
   "language": "python",
   "name": "conda-env-.conda-oezkan_thesis-py"
  },
  "language_info": {
   "codemirror_mode": {
    "name": "ipython",
    "version": 3
   },
   "file_extension": ".py",
   "mimetype": "text/x-python",
   "name": "python",
   "nbconvert_exporter": "python",
   "pygments_lexer": "ipython3",
   "version": "3.8.3"
  }
 },
 "nbformat": 4,
 "nbformat_minor": 2
}
